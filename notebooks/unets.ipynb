{
 "cells": [
  {
   "cell_type": "markdown",
   "metadata": {},
   "source": [
    "# U-Nets with PyTorch\n",
    "\n",
    "This notebook is used to test the implementation of various U-Net models from scratch using PyTorch. The model is saved under the `models` directory."
   ]
  },
  {
   "cell_type": "code",
   "execution_count": 1,
   "metadata": {},
   "outputs": [
    {
     "name": "stdout",
     "output_type": "stream",
     "text": [
      "Path added to the sys path.\n"
     ]
    }
   ],
   "source": [
    "import sys\n",
    "from path_utils import add_parent_path_to_sys_path\n",
    "# add the parent directory to the sys path so that we can import the models\n",
    "current_path = sys.path[0]\n",
    "add_parent_path_to_sys_path(current_path, verbose=False)\n",
    "\n",
    "import torch\n",
    "\n",
    "# import the models\n",
    "from models.unets_encoders import *\n",
    "from models.unets_decoders import *\n",
    "from models.unets import *"
   ]
  },
  {
   "cell_type": "markdown",
   "metadata": {},
   "source": [
    "# ResUNet2D"
   ]
  },
  {
   "cell_type": "code",
   "execution_count": 2,
   "metadata": {},
   "outputs": [],
   "source": [
    "# setting up the model\n",
    "in_channels = 3\n",
    "out_channels = 8\n",
    "num_blocks = 4\n",
    "base_channels = 64\n",
    "channel_multiplier = 1\n",
    "\n",
    "in_ksize = 3\n",
    "in_stride = 1\n",
    "in_padding = 1\n",
    "out_ksize = 3\n",
    "out_stride = 1\n",
    "out_padding = 1\n",
    "block_ksize = 3\n",
    "block_stride = 1\n",
    "block_padding = 1\n",
    "padding_mode = 'zeros'\n",
    "block_mid_channel_multiplier = 1\n",
    "block_ksize_increment = 0\n",
    "dropout = False"
   ]
  },
  {
   "cell_type": "code",
   "execution_count": 3,
   "metadata": {},
   "outputs": [],
   "source": [
    "resunet2d_encoder = ResUNet2DEncoder(\n",
    "    in_channels, \n",
    "    num_blocks, \n",
    "    base_channels, \n",
    "    channel_multiplier, \n",
    "    in_ksize, \n",
    "    in_stride, \n",
    "    in_padding, \n",
    "    block_ksize, \n",
    "    block_stride, \n",
    "    block_padding, \n",
    "    block_mid_channel_multiplier,\n",
    "    block_ksize_increment,\n",
    "    padding_mode,\n",
    "    dropout\n",
    ")\n",
    "\n",
    "resunet2d_decoder = ResUNet2DDecoder(\n",
    "    out_channels,\n",
    "    num_blocks,\n",
    "    base_channels,\n",
    "    channel_multiplier,\n",
    "    out_ksize,\n",
    "    out_stride,\n",
    "    out_padding,\n",
    "    block_ksize,\n",
    "    block_stride,\n",
    "    block_padding,\n",
    "    block_mid_channel_multiplier,\n",
    "    block_ksize_increment,\n",
    "    padding_mode,\n",
    "    dropout\n",
    ")\n",
    "\n",
    "resunet2d = ResUNet2D(resunet2d_encoder,\n",
    "                      resunet2d_decoder)"
   ]
  },
  {
   "cell_type": "code",
   "execution_count": 4,
   "metadata": {},
   "outputs": [],
   "source": [
    "# generating some fake data\n",
    "input_imgs = torch.rand(5, in_channels, 256, 256)"
   ]
  },
  {
   "cell_type": "code",
   "execution_count": 7,
   "metadata": {},
   "outputs": [
    {
     "name": "stdout",
     "output_type": "stream",
     "text": [
      "Encoder output shape: torch.Size([5, 64, 256, 256])\n",
      "Encoder feature encoder_block_0 shape: torch.Size([5, 64, 256, 256])\n",
      "Encoder feature encoder_block_1 shape: torch.Size([5, 64, 256, 256])\n",
      "Encoder feature encoder_block_2 shape: torch.Size([5, 64, 256, 256])\n",
      "Encoder feature encoder_block_3 shape: torch.Size([5, 64, 256, 256])\n",
      "Encoder feature encoder_block_4 shape: torch.Size([5, 64, 256, 256])\n",
      "Decoder output shape: torch.Size([5, 8, 256, 256])\n",
      "Decoder feature decoder_block_4 shape: torch.Size([5, 64, 256, 256])\n",
      "Decoder feature decoder_block_3 shape: torch.Size([5, 64, 256, 256])\n",
      "Decoder feature decoder_block_2 shape: torch.Size([5, 64, 256, 256])\n",
      "Decoder feature decoder_block_1 shape: torch.Size([5, 64, 256, 256])\n",
      "Decoder feature decoder_output shape: torch.Size([5, 8, 256, 256])\n",
      "--------------------------------------------------\n",
      "Output shape: torch.Size([5, 8, 256, 256])\n",
      "Encoder feature encoder_block_0 shape: torch.Size([5, 64, 256, 256])\n",
      "Encoder feature encoder_block_1 shape: torch.Size([5, 64, 256, 256])\n",
      "Encoder feature encoder_block_2 shape: torch.Size([5, 64, 256, 256])\n",
      "Encoder feature encoder_block_3 shape: torch.Size([5, 64, 256, 256])\n",
      "Encoder feature encoder_block_4 shape: torch.Size([5, 64, 256, 256])\n",
      "Decoder feature decoder_block_4 shape: torch.Size([5, 64, 256, 256])\n",
      "Decoder feature decoder_block_3 shape: torch.Size([5, 64, 256, 256])\n",
      "Decoder feature decoder_block_2 shape: torch.Size([5, 64, 256, 256])\n",
      "Decoder feature decoder_block_1 shape: torch.Size([5, 64, 256, 256])\n",
      "Decoder feature decoder_output shape: torch.Size([5, 8, 256, 256])\n"
     ]
    }
   ],
   "source": [
    "enc_out, enc_features = resunet2d_encoder(input_imgs)\n",
    "print('Encoder output shape:', enc_out.shape)\n",
    "for name, feature in enc_features.items():\n",
    "    print(f'Encoder feature {name} shape:', feature.shape)\n",
    "\n",
    "dec_out, dec_features = resunet2d_decoder(enc_out, enc_features)\n",
    "print('Decoder output shape:', dec_out.shape)\n",
    "for name, feature in dec_features.items():\n",
    "    print(f'Decoder feature {name} shape:', feature.shape)\n",
    "print('-'*50)\n",
    "\n",
    "out, enc_features, dec_features = resunet2d(input_imgs)\n",
    "print('Output shape:', out.shape)\n",
    "for name, feature in enc_features.items():\n",
    "    print(f'Encoder feature {name} shape:', feature.shape)\n",
    "for name, feature in dec_features.items():\n",
    "    print(f'Decoder feature {name} shape:', feature.shape)"
   ]
  },
  {
   "cell_type": "markdown",
   "metadata": {},
   "source": [
    "# ResUNet2D_Attention"
   ]
  },
  {
   "cell_type": "code",
   "execution_count": 3,
   "metadata": {},
   "outputs": [],
   "source": [
    "# setting up the model\n",
    "in_channels = 1\n",
    "out_channels = 8\n",
    "num_blocks = 4\n",
    "base_channels = 32\n",
    "channel_multiplier = 1\n",
    "\n",
    "in_ksize = 3\n",
    "in_stride = 1\n",
    "in_padding = 1\n",
    "\n",
    "out_ksize = 3\n",
    "out_stride = 1\n",
    "out_padding = 1\n",
    "\n",
    "block_ksize = 3\n",
    "block_stride = 1\n",
    "block_padding = 1\n",
    "padding_mode = 'zeros'\n",
    "block_mid_channel_multiplier = 1\n",
    "block_ksize_increment = 0\n",
    "dropout = False\n",
    "\n",
    "attn_channels = 8"
   ]
  },
  {
   "cell_type": "code",
   "execution_count": 4,
   "metadata": {},
   "outputs": [],
   "source": [
    "resunet2d_encoder = ResUNet2DEncoder(\n",
    "    in_channels, \n",
    "    num_blocks, \n",
    "    base_channels, \n",
    "    channel_multiplier, \n",
    "    in_ksize, \n",
    "    in_stride, \n",
    "    in_padding, \n",
    "    block_ksize, \n",
    "    block_stride, \n",
    "    block_padding, \n",
    "    block_mid_channel_multiplier,\n",
    "    block_ksize_increment,\n",
    "    padding_mode,\n",
    "    dropout\n",
    ")\n",
    "\n",
    "resunet2d_decoder_attn = ResUNet2DDecoder_Attention(\n",
    "    out_channels,\n",
    "    num_blocks,\n",
    "    base_channels,\n",
    "    channel_multiplier,\n",
    "    out_ksize,\n",
    "    out_stride,\n",
    "    out_padding,\n",
    "    block_ksize,\n",
    "    block_stride,\n",
    "    block_padding,\n",
    "    block_mid_channel_multiplier,\n",
    "    block_ksize_increment,\n",
    "    padding_mode,\n",
    "    dropout,\n",
    "    attn_channels\n",
    ")\n",
    "\n",
    "resunet2d_attn = ResUNet2D_Attention(resunet2d_encoder,\n",
    "                                     resunet2d_decoder_attn)"
   ]
  },
  {
   "cell_type": "code",
   "execution_count": 5,
   "metadata": {},
   "outputs": [],
   "source": [
    "# generating some fake data\n",
    "input_imgs = torch.rand(3, in_channels, 64, 64)"
   ]
  },
  {
   "cell_type": "code",
   "execution_count": 7,
   "metadata": {},
   "outputs": [
    {
     "name": "stdout",
     "output_type": "stream",
     "text": [
      "Encoder output shape: torch.Size([3, 32, 64, 64])\n",
      "Encoder feature encoder_block_0 shape: torch.Size([3, 32, 64, 64])\n",
      "Encoder feature encoder_block_1 shape: torch.Size([3, 32, 64, 64])\n",
      "Encoder feature encoder_block_2 shape: torch.Size([3, 32, 64, 64])\n",
      "Encoder feature encoder_block_3 shape: torch.Size([3, 32, 64, 64])\n",
      "Encoder feature encoder_block_4 shape: torch.Size([3, 32, 64, 64])\n",
      "--------------------------------------------------\n",
      "Decoder output shape: torch.Size([3, 8, 64, 64])\n",
      "Decoder feature decoder_block_4 shape: torch.Size([3, 32, 64, 64])\n",
      "Decoder feature decoder_block_3 shape: torch.Size([3, 32, 64, 64])\n",
      "Decoder feature decoder_block_2 shape: torch.Size([3, 32, 64, 64])\n",
      "Decoder feature decoder_block_1 shape: torch.Size([3, 32, 64, 64])\n",
      "Decoder feature decoder_output shape: torch.Size([3, 8, 64, 64])\n",
      "--------------------------------------------------\n",
      "Attention feature decoder_attn_4 shape: torch.Size([3, 1, 64, 64])\n",
      "Attention feature decoder_attn_3 shape: torch.Size([3, 1, 64, 64])\n",
      "Attention feature decoder_attn_2 shape: torch.Size([3, 1, 64, 64])\n",
      "Attention feature decoder_attn_1 shape: torch.Size([3, 1, 64, 64])\n",
      "==================================================\n",
      "Output shape: torch.Size([3, 8, 64, 64])\n",
      "Encoder feature encoder_block_0 shape: torch.Size([3, 32, 64, 64])\n",
      "Encoder feature encoder_block_1 shape: torch.Size([3, 32, 64, 64])\n",
      "Encoder feature encoder_block_2 shape: torch.Size([3, 32, 64, 64])\n",
      "Encoder feature encoder_block_3 shape: torch.Size([3, 32, 64, 64])\n",
      "Encoder feature encoder_block_4 shape: torch.Size([3, 32, 64, 64])\n",
      "--------------------------------------------------\n",
      "Decoder feature decoder_block_4 shape: torch.Size([3, 32, 64, 64])\n",
      "Decoder feature decoder_block_3 shape: torch.Size([3, 32, 64, 64])\n",
      "Decoder feature decoder_block_2 shape: torch.Size([3, 32, 64, 64])\n",
      "Decoder feature decoder_block_1 shape: torch.Size([3, 32, 64, 64])\n",
      "Decoder feature decoder_output shape: torch.Size([3, 8, 64, 64])\n",
      "--------------------------------------------------\n",
      "Attention feature decoder_attn_4 shape: torch.Size([3, 1, 64, 64])\n",
      "Attention feature decoder_attn_3 shape: torch.Size([3, 1, 64, 64])\n",
      "Attention feature decoder_attn_2 shape: torch.Size([3, 1, 64, 64])\n",
      "Attention feature decoder_attn_1 shape: torch.Size([3, 1, 64, 64])\n",
      "--------------------------------------------------\n"
     ]
    }
   ],
   "source": [
    "enc_out, enc_features = resunet2d_encoder(input_imgs)\n",
    "print('Encoder output shape:', enc_out.shape)\n",
    "for name, feature in enc_features.items():\n",
    "    print(f'Encoder feature {name} shape:', feature.shape)\n",
    "print('-'*50)\n",
    "\n",
    "dec_out, dec_features, attn_features = resunet2d_decoder_attn(enc_out, enc_features)\n",
    "print('Decoder output shape:', dec_out.shape)\n",
    "for name, feature in dec_features.items():\n",
    "    print(f'Decoder feature {name} shape:', feature.shape)\n",
    "print('-'*50)\n",
    "for name, feature in attn_features.items():\n",
    "    print(f'Attention feature {name} shape:', feature.shape)\n",
    "\n",
    "\n",
    "print('='*50)\n",
    "\n",
    "out, enc_features, dec_features, attn_features = resunet2d_attn(input_imgs)\n",
    "print('Output shape:', out.shape)\n",
    "for name, feature in enc_features.items():\n",
    "    print(f'Encoder feature {name} shape:', feature.shape)\n",
    "print('-'*50)\n",
    "for name, feature in dec_features.items():\n",
    "    print(f'Decoder feature {name} shape:', feature.shape)\n",
    "print('-'*50)\n",
    "for name, feature in attn_features.items():\n",
    "    print(f'Attention feature {name} shape:', feature.shape)\n",
    "print('-'*50)"
   ]
  }
 ],
 "metadata": {
  "kernelspec": {
   "display_name": "scratch-pytorch",
   "language": "python",
   "name": "python3"
  },
  "language_info": {
   "codemirror_mode": {
    "name": "ipython",
    "version": 3
   },
   "file_extension": ".py",
   "mimetype": "text/x-python",
   "name": "python",
   "nbconvert_exporter": "python",
   "pygments_lexer": "ipython3",
   "version": "3.12.1"
  }
 },
 "nbformat": 4,
 "nbformat_minor": 2
}
